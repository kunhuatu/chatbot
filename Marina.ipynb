{
 "cells": [
  {
   "cell_type": "code",
   "execution_count": 1,
   "metadata": {
    "collapsed": true
   },
   "outputs": [],
   "source": [
    "from imp import reload\n",
    "import chatbot; reload(chatbot)\n",
    "from chatbot import ChatBot"
   ]
  },
  {
   "cell_type": "code",
   "execution_count": 2,
   "metadata": {
    "collapsed": true
   },
   "outputs": [],
   "source": [
    "Marina = ChatBot('Marina')"
   ]
  },
  {
   "cell_type": "code",
   "execution_count": 3,
   "metadata": {
    "scrolled": true
   },
   "outputs": [
    {
     "name": "stdout",
     "output_type": "stream",
     "text": [
      "Start training...\n",
      "Epoch: 1\n",
      "\tstep: 100, train_loss: 3.0055, time_spent: 126.11s\n",
      "\tstep: 200, train_loss: 2.8826, time_spent: 123.89s\n",
      "\tstep: 300, train_loss: 2.8318, time_spent: 128.52s\n",
      "\tstep: 400, train_loss: 2.7341, time_spent: 124.08s\n",
      "\tstep: 500, train_loss: 2.6631, time_spent: 127.61s\n",
      "\tstep: 600, train_loss: 2.6077, time_spent: 123.50s\n",
      "val_loss: 2.2703\n",
      "Epoch: 2\n",
      "\tstep: 100, train_loss: 2.2690, time_spent: 123.55s\n",
      "\tstep: 200, train_loss: 2.2740, time_spent: 123.67s\n",
      "\tstep: 300, train_loss: 2.2704, time_spent: 127.62s\n",
      "\tstep: 400, train_loss: 2.2636, time_spent: 123.49s\n",
      "\tstep: 500, train_loss: 2.2608, time_spent: 127.81s\n",
      "\tstep: 600, train_loss: 2.2545, time_spent: 123.59s\n",
      "val_loss: 2.2158\n",
      "Epoch: 3\n",
      "\tstep: 100, train_loss: 2.2033, time_spent: 123.67s\n",
      "\tstep: 200, train_loss: 2.2164, time_spent: 123.66s\n",
      "\tstep: 300, train_loss: 2.2122, time_spent: 127.61s\n",
      "\tstep: 400, train_loss: 2.2134, time_spent: 123.76s\n",
      "\tstep: 500, train_loss: 2.2109, time_spent: 127.83s\n",
      "\tstep: 600, train_loss: 2.2082, time_spent: 123.82s\n",
      "val_loss: 2.1712\n",
      "Epoch: 4\n",
      "\tstep: 100, train_loss: 2.1468, time_spent: 123.69s\n",
      "\tstep: 200, train_loss: 2.1537, time_spent: 123.91s\n",
      "\tstep: 300, train_loss: 2.1489, time_spent: 127.70s\n",
      "\tstep: 400, train_loss: 2.1427, time_spent: 123.82s\n",
      "\tstep: 500, train_loss: 2.1419, time_spent: 128.11s\n",
      "\tstep: 600, train_loss: 2.1377, time_spent: 123.71s\n",
      "val_loss: 2.1002\n",
      "Epoch: 5\n",
      "\tstep: 100, train_loss: 2.0708, time_spent: 123.70s\n",
      "\tstep: 200, train_loss: 2.0775, time_spent: 123.83s\n",
      "\tstep: 300, train_loss: 2.0755, time_spent: 127.90s\n",
      "\tstep: 400, train_loss: 2.0733, time_spent: 123.86s\n",
      "\tstep: 500, train_loss: 2.0726, time_spent: 127.88s\n",
      "\tstep: 600, train_loss: 2.0723, time_spent: 123.85s\n",
      "val_loss: 2.0526\n",
      "Epoch: 6\n",
      "\tstep: 100, train_loss: 2.0215, time_spent: 123.84s\n",
      "\tstep: 200, train_loss: 2.0216, time_spent: 123.92s\n",
      "\tstep: 300, train_loss: 2.0243, time_spent: 127.85s\n",
      "\tstep: 400, train_loss: 2.0234, time_spent: 124.00s\n",
      "\tstep: 500, train_loss: 2.0210, time_spent: 127.85s\n",
      "\tstep: 600, train_loss: 2.0232, time_spent: 123.98s\n",
      "val_loss: 2.0230\n",
      "Epoch: 7\n",
      "\tstep: 100, train_loss: 2.0067, time_spent: 123.98s\n",
      "\tstep: 200, train_loss: 1.9971, time_spent: 124.01s\n",
      "\tstep: 300, train_loss: 1.9970, time_spent: 127.88s\n",
      "\tstep: 400, train_loss: 1.9949, time_spent: 124.10s\n",
      "\tstep: 500, train_loss: 1.9924, time_spent: 127.81s\n",
      "\tstep: 600, train_loss: 1.9903, time_spent: 123.98s\n",
      "val_loss: 2.0032\n",
      "Epoch: 8\n",
      "\tstep: 100, train_loss: 1.9656, time_spent: 124.20s\n",
      "\tstep: 200, train_loss: 1.9611, time_spent: 124.12s\n",
      "\tstep: 300, train_loss: 1.9605, time_spent: 127.97s\n",
      "\tstep: 400, train_loss: 1.9614, time_spent: 123.98s\n",
      "\tstep: 500, train_loss: 1.9613, time_spent: 127.98s\n",
      "\tstep: 600, train_loss: 1.9613, time_spent: 124.06s\n",
      "val_loss: 1.9897\n",
      "Epoch: 9\n",
      "\tstep: 100, train_loss: 1.9304, time_spent: 124.10s\n",
      "\tstep: 200, train_loss: 1.9361, time_spent: 124.15s\n",
      "\tstep: 300, train_loss: 1.9359, time_spent: 128.07s\n",
      "\tstep: 400, train_loss: 1.9387, time_spent: 124.18s\n",
      "\tstep: 500, train_loss: 1.9402, time_spent: 128.12s\n",
      "\tstep: 600, train_loss: 1.9394, time_spent: 124.03s\n",
      "val_loss: 1.9764\n",
      "Epoch: 10\n",
      "\tstep: 100, train_loss: 1.8951, time_spent: 124.03s\n",
      "\tstep: 200, train_loss: 1.9166, time_spent: 124.14s\n",
      "\tstep: 300, train_loss: 1.9153, time_spent: 128.49s\n",
      "\tstep: 400, train_loss: 1.9176, time_spent: 124.20s\n",
      "\tstep: 500, train_loss: 1.9169, time_spent: 128.17s\n",
      "\tstep: 600, train_loss: 1.9163, time_spent: 124.10s\n",
      "val_loss: 1.9710\n",
      "Epoch: 11\n",
      "\tstep: 100, train_loss: 1.8920, time_spent: 124.14s\n",
      "\tstep: 200, train_loss: 1.8966, time_spent: 124.10s\n",
      "\tstep: 300, train_loss: 1.8913, time_spent: 128.18s\n",
      "\tstep: 400, train_loss: 1.8918, time_spent: 124.12s\n",
      "\tstep: 500, train_loss: 1.8924, time_spent: 128.00s\n",
      "\tstep: 600, train_loss: 1.8968, time_spent: 124.14s\n",
      "val_loss: 1.9640\n",
      "Epoch: 12\n",
      "\tstep: 100, train_loss: 1.8713, time_spent: 124.17s\n",
      "\tstep: 200, train_loss: 1.8719, time_spent: 124.09s\n",
      "\tstep: 300, train_loss: 1.8694, time_spent: 128.38s\n",
      "\tstep: 400, train_loss: 1.8748, time_spent: 124.13s\n",
      "\tstep: 500, train_loss: 1.8753, time_spent: 128.20s\n",
      "\tstep: 600, train_loss: 1.8766, time_spent: 124.19s\n",
      "val_loss: 1.9586\n",
      "Epoch: 13\n",
      "\tstep: 100, train_loss: 1.8373, time_spent: 124.18s\n",
      "\tstep: 200, train_loss: 1.8470, time_spent: 124.21s\n",
      "\tstep: 300, train_loss: 1.8507, time_spent: 128.16s\n",
      "\tstep: 400, train_loss: 1.8543, time_spent: 124.09s\n",
      "\tstep: 500, train_loss: 1.8579, time_spent: 128.14s\n",
      "\tstep: 600, train_loss: 1.8595, time_spent: 124.13s\n",
      "val_loss: 1.9560\n",
      "Epoch: 14\n",
      "\tstep: 100, train_loss: 1.8189, time_spent: 124.14s\n",
      "\tstep: 200, train_loss: 1.8311, time_spent: 124.23s\n",
      "\tstep: 300, train_loss: 1.8297, time_spent: 128.16s\n",
      "\tstep: 400, train_loss: 1.8354, time_spent: 124.29s\n",
      "\tstep: 500, train_loss: 1.8361, time_spent: 128.28s\n",
      "\tstep: 600, train_loss: 1.8377, time_spent: 124.24s\n",
      "val_loss: 1.9541\n",
      "Epoch: 15\n",
      "\tstep: 100, train_loss: 1.8069, time_spent: 124.25s\n",
      "\tstep: 200, train_loss: 1.8096, time_spent: 124.25s\n",
      "\tstep: 300, train_loss: 1.8133, time_spent: 128.08s\n",
      "\tstep: 400, train_loss: 1.8137, time_spent: 124.33s\n",
      "\tstep: 500, train_loss: 1.8148, time_spent: 128.60s\n",
      "\tstep: 600, train_loss: 1.8190, time_spent: 124.24s\n",
      "val_loss: 1.9539\n",
      "Epoch: 16\n",
      "\tstep: 100, train_loss: 1.7999, time_spent: 124.33s\n",
      "\tstep: 200, train_loss: 1.7931, time_spent: 124.20s\n",
      "\tstep: 300, train_loss: 1.7949, time_spent: 128.17s\n",
      "\tstep: 400, train_loss: 1.7934, time_spent: 124.17s\n",
      "\tstep: 500, train_loss: 1.7985, time_spent: 128.24s\n",
      "\tstep: 600, train_loss: 1.7995, time_spent: 124.27s\n",
      "val_loss: 1.9560\n",
      "Epoch: 17\n",
      "\tstep: 100, train_loss: 1.7689, time_spent: 124.25s\n",
      "\tstep: 200, train_loss: 1.7762, time_spent: 124.37s\n",
      "\tstep: 300, train_loss: 1.7761, time_spent: 128.19s\n",
      "\tstep: 400, train_loss: 1.7804, time_spent: 124.33s\n",
      "\tstep: 500, train_loss: 1.7804, time_spent: 128.10s\n",
      "\tstep: 600, train_loss: 1.7805, time_spent: 124.22s\n",
      "val_loss: 1.9551\n",
      "Epoch: 18\n",
      "Interrupted by user\n"
     ]
    }
   ],
   "source": [
    "Marina.train()"
   ]
  },
  {
   "cell_type": "code",
   "execution_count": 6,
   "metadata": {},
   "outputs": [
    {
     "name": "stdout",
     "output_type": "stream",
     "text": [
      "test_loss: 2.029564142227173\n"
     ]
    },
    {
     "data": {
      "text/plain": [
       "2.0295641"
      ]
     },
     "execution_count": 6,
     "metadata": {},
     "output_type": "execute_result"
    }
   ],
   "source": [
    "Marina.evaluate()"
   ]
  },
  {
   "cell_type": "code",
   "execution_count": 14,
   "metadata": {},
   "outputs": [
    {
     "data": {
      "text/plain": [
       "model_checkpoint_path: \"./checkpoint/epoch/emb_att_seq2seq_Marina-10095\"\n",
       "all_model_checkpoint_paths: \"./checkpoint/epoch/emb_att_seq2seq_Marina-3365\"\n",
       "all_model_checkpoint_paths: \"./checkpoint/epoch/emb_att_seq2seq_Marina-6730\"\n",
       "all_model_checkpoint_paths: \"./checkpoint/epoch/emb_att_seq2seq_Marina-10095\""
      ]
     },
     "execution_count": 14,
     "metadata": {},
     "output_type": "execute_result"
    }
   ],
   "source": [
    "tf.train.get_checkpoint_state('./checkpoint/epoch/')"
   ]
  },
  {
   "cell_type": "code",
   "execution_count": 21,
   "metadata": {},
   "outputs": [
    {
     "data": {
      "text/plain": [
       "model_checkpoint_path: \"./checkpoint/step/emb_att_seq2seq_Marina-11368\"\n",
       "all_model_checkpoint_paths: \"./checkpoint/step/emb_att_seq2seq_Marina-10968\"\n",
       "all_model_checkpoint_paths: \"./checkpoint/step/emb_att_seq2seq_Marina-11168\"\n",
       "all_model_checkpoint_paths: \"./checkpoint/step/emb_att_seq2seq_Marina-11368\""
      ]
     },
     "execution_count": 21,
     "metadata": {},
     "output_type": "execute_result"
    }
   ],
   "source": [
    "tf.train.get_checkpoint_state('./checkpoint/step/')"
   ]
  },
  {
   "cell_type": "code",
   "execution_count": 24,
   "metadata": {
    "collapsed": true
   },
   "outputs": [],
   "source": [
    "Marina.restore_session(\"./checkpoint/step/emb_att_seq2seq_Marina-10968\")"
   ]
  },
  {
   "cell_type": "code",
   "execution_count": null,
   "metadata": {},
   "outputs": [
    {
     "name": "stdout",
     "output_type": "stream",
     "text": [
      "user: How are you?\n",
      "Marina: i am fine\n",
      "user: Do you watch baseball game?\n",
      "Marina: no i am not\n",
      "user: Do you enjoy snowboarding?\n",
      "Marina: i am not sure\n",
      "user: Let's watch game of throne tonight together! What do you think?\n",
      "Marina: i do not know\n",
      "user: Have you ever been to Taiwan?\n",
      "Marina: no i am not\n",
      "user: May the Force be with you!\n",
      "Marina: i am not a little man\n",
      "user: You talking to me？\n",
      "Marina: i am not sure\n"
     ]
    }
   ],
   "source": [
    "Marina.start_chat()"
   ]
  }
 ],
 "metadata": {
  "kernelspec": {
   "display_name": "Python 3",
   "language": "python",
   "name": "python3"
  },
  "language_info": {
   "codemirror_mode": {
    "name": "ipython",
    "version": 3
   },
   "file_extension": ".py",
   "mimetype": "text/x-python",
   "name": "python",
   "nbconvert_exporter": "python",
   "pygments_lexer": "ipython3",
   "version": "3.6.1"
  }
 },
 "nbformat": 4,
 "nbformat_minor": 2
}
